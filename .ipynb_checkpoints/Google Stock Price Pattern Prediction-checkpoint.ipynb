{
 "cells": [
  {
   "cell_type": "markdown",
   "id": "77384c8d-2e2a-4a1b-9420-c5a8948ed141",
   "metadata": {},
   "source": [
    "## Importing Library\n"
   ]
  },
  {
   "cell_type": "code",
   "execution_count": 151,
   "id": "1fc4298d-76be-40f5-8c4f-c2c578a0c424",
   "metadata": {},
   "outputs": [],
   "source": [
    "import numpy as np\n",
    "import tensorflow as tf\n",
    "from tensorflow.keras.models import Sequential\n",
    "from tensorflow.keras.layers import Dense, LSTM, Dropout\n",
    "from sklearn.model_selection import train_test_split\n",
    "import random\n",
    "import matplotlib.pyplot as plt\n",
    "import pandas as pd\n",
    "%matplotlib inline"
   ]
  },
  {
   "cell_type": "code",
   "execution_count": 152,
   "id": "dd8ac96a-9b40-4075-a40a-c45458d75897",
   "metadata": {},
   "outputs": [],
   "source": [
    "np.random.seed(314)\n",
    "tf.random.set_seed(314)\n",
    "random.seed(314)"
   ]
  },
  {
   "cell_type": "markdown",
   "id": "bc7a45b1-d950-4f3a-85b4-a8fcb502a7d5",
   "metadata": {},
   "source": [
    "## Import DataSet"
   ]
  },
  {
   "cell_type": "code",
   "execution_count": 153,
   "id": "95c429b6-28ed-48b7-ab77-1a37c5ca2bd6",
   "metadata": {},
   "outputs": [],
   "source": [
    "dataset = pd.read_csv(\"archive/Google_train_data.csv\")"
   ]
  },
  {
   "cell_type": "code",
   "execution_count": 154,
   "id": "49ab7f7f-4f04-42ce-b716-02ea5e292e7a",
   "metadata": {},
   "outputs": [
    {
     "data": {
      "text/html": [
       "<div>\n",
       "<style scoped>\n",
       "    .dataframe tbody tr th:only-of-type {\n",
       "        vertical-align: middle;\n",
       "    }\n",
       "\n",
       "    .dataframe tbody tr th {\n",
       "        vertical-align: top;\n",
       "    }\n",
       "\n",
       "    .dataframe thead th {\n",
       "        text-align: right;\n",
       "    }\n",
       "</style>\n",
       "<table border=\"1\" class=\"dataframe\">\n",
       "  <thead>\n",
       "    <tr style=\"text-align: right;\">\n",
       "      <th></th>\n",
       "      <th>Date</th>\n",
       "      <th>Open</th>\n",
       "      <th>High</th>\n",
       "      <th>Low</th>\n",
       "      <th>Close</th>\n",
       "      <th>Volume</th>\n",
       "    </tr>\n",
       "  </thead>\n",
       "  <tbody>\n",
       "    <tr>\n",
       "      <th>1253</th>\n",
       "      <td>12/23/2016</td>\n",
       "      <td>790.90</td>\n",
       "      <td>792.74</td>\n",
       "      <td>787.28</td>\n",
       "      <td>789.91</td>\n",
       "      <td>623,400</td>\n",
       "    </tr>\n",
       "    <tr>\n",
       "      <th>1254</th>\n",
       "      <td>12/27/2016</td>\n",
       "      <td>790.68</td>\n",
       "      <td>797.86</td>\n",
       "      <td>787.66</td>\n",
       "      <td>791.55</td>\n",
       "      <td>789,100</td>\n",
       "    </tr>\n",
       "    <tr>\n",
       "      <th>1255</th>\n",
       "      <td>12/28/2016</td>\n",
       "      <td>793.70</td>\n",
       "      <td>794.23</td>\n",
       "      <td>783.20</td>\n",
       "      <td>785.05</td>\n",
       "      <td>1,153,800</td>\n",
       "    </tr>\n",
       "    <tr>\n",
       "      <th>1256</th>\n",
       "      <td>12/29/2016</td>\n",
       "      <td>783.33</td>\n",
       "      <td>785.93</td>\n",
       "      <td>778.92</td>\n",
       "      <td>782.79</td>\n",
       "      <td>744,300</td>\n",
       "    </tr>\n",
       "    <tr>\n",
       "      <th>1257</th>\n",
       "      <td>12/30/2016</td>\n",
       "      <td>782.75</td>\n",
       "      <td>782.78</td>\n",
       "      <td>770.41</td>\n",
       "      <td>771.82</td>\n",
       "      <td>1,770,000</td>\n",
       "    </tr>\n",
       "  </tbody>\n",
       "</table>\n",
       "</div>"
      ],
      "text/plain": [
       "            Date    Open    High     Low   Close     Volume\n",
       "1253  12/23/2016  790.90  792.74  787.28  789.91    623,400\n",
       "1254  12/27/2016  790.68  797.86  787.66  791.55    789,100\n",
       "1255  12/28/2016  793.70  794.23  783.20  785.05  1,153,800\n",
       "1256  12/29/2016  783.33  785.93  778.92  782.79    744,300\n",
       "1257  12/30/2016  782.75  782.78  770.41  771.82  1,770,000"
      ]
     },
     "execution_count": 154,
     "metadata": {},
     "output_type": "execute_result"
    }
   ],
   "source": [
    "dataset.tail(5)"
   ]
  },
  {
   "cell_type": "code",
   "execution_count": 155,
   "id": "d407a9d1-df6a-47ee-94c3-6e3778ecfaba",
   "metadata": {},
   "outputs": [
    {
     "data": {
      "text/plain": [
       "(1258, 6)"
      ]
     },
     "execution_count": 155,
     "metadata": {},
     "output_type": "execute_result"
    }
   ],
   "source": [
    "dataset.shape"
   ]
  },
  {
   "cell_type": "code",
   "execution_count": 156,
   "id": "96157376-12cc-403e-bd12-52ff3abdbc09",
   "metadata": {},
   "outputs": [
    {
     "data": {
      "text/plain": [
       "Date      0\n",
       "Open      0\n",
       "High      0\n",
       "Low       0\n",
       "Close     0\n",
       "Volume    0\n",
       "dtype: int64"
      ]
     },
     "execution_count": 156,
     "metadata": {},
     "output_type": "execute_result"
    }
   ],
   "source": [
    "dataset.isnull().sum()"
   ]
  },
  {
   "cell_type": "code",
   "execution_count": 157,
   "id": "69c4c889-6284-4b98-8c48-b6f8ac0b7f80",
   "metadata": {},
   "outputs": [
    {
     "name": "stdout",
     "output_type": "stream",
     "text": [
      "<class 'pandas.core.frame.DataFrame'>\n",
      "RangeIndex: 1258 entries, 0 to 1257\n",
      "Data columns (total 6 columns):\n",
      " #   Column  Non-Null Count  Dtype  \n",
      "---  ------  --------------  -----  \n",
      " 0   Date    1258 non-null   object \n",
      " 1   Open    1258 non-null   float64\n",
      " 2   High    1258 non-null   float64\n",
      " 3   Low     1258 non-null   float64\n",
      " 4   Close   1258 non-null   object \n",
      " 5   Volume  1258 non-null   object \n",
      "dtypes: float64(3), object(3)\n",
      "memory usage: 59.1+ KB\n"
     ]
    }
   ],
   "source": [
    "dataset.info()"
   ]
  },
  {
   "cell_type": "code",
   "execution_count": 158,
   "id": "28000d45-8279-434f-a74c-beea090a39fc",
   "metadata": {},
   "outputs": [],
   "source": [
    "dataset[\"Close\"] = pd.to_numeric(dataset.Close, errors = \"coerce\")"
   ]
  },
  {
   "cell_type": "code",
   "execution_count": 159,
   "id": "6fb6e177-6249-4d7e-938e-ffe748d48547",
   "metadata": {},
   "outputs": [
    {
     "name": "stdout",
     "output_type": "stream",
     "text": [
      "<class 'pandas.core.frame.DataFrame'>\n",
      "RangeIndex: 1258 entries, 0 to 1257\n",
      "Data columns (total 6 columns):\n",
      " #   Column  Non-Null Count  Dtype  \n",
      "---  ------  --------------  -----  \n",
      " 0   Date    1258 non-null   object \n",
      " 1   Open    1258 non-null   float64\n",
      " 2   High    1258 non-null   float64\n",
      " 3   Low     1258 non-null   float64\n",
      " 4   Close   1149 non-null   float64\n",
      " 5   Volume  1258 non-null   object \n",
      "dtypes: float64(4), object(2)\n",
      "memory usage: 59.1+ KB\n"
     ]
    }
   ],
   "source": [
    "dataset.info()\n",
    "dataset.dropna(inplace = True)"
   ]
  },
  {
   "cell_type": "code",
   "execution_count": 160,
   "id": "ef9316b4-6bfd-41fa-9b33-a1910485b841",
   "metadata": {},
   "outputs": [],
   "source": [
    "x = dataset.iloc[:,4:5].values"
   ]
  },
  {
   "cell_type": "markdown",
   "id": "c3b068a5-a026-4054-9f7e-c27058ae87fe",
   "metadata": {},
   "source": [
    "## MinMax Scaling"
   ]
  },
  {
   "cell_type": "code",
   "execution_count": 161,
   "id": "68b265f0-a7ff-488b-a744-48d6e75399ab",
   "metadata": {},
   "outputs": [],
   "source": [
    "from sklearn.preprocessing import MinMaxScaler\n",
    "sc = MinMaxScaler(feature_range = (0,1))\n",
    "x = sc.fit_transform(x)"
   ]
  },
  {
   "cell_type": "code",
   "execution_count": 162,
   "id": "1b9de9a3-5cfc-4e2e-bd5c-a921032baa72",
   "metadata": {},
   "outputs": [
    {
     "data": {
      "text/plain": [
       "(1149, 1)"
      ]
     },
     "execution_count": 162,
     "metadata": {},
     "output_type": "execute_result"
    }
   ],
   "source": [
    "x.shape"
   ]
  },
  {
   "cell_type": "code",
   "execution_count": 163,
   "id": "1866227e-e77a-4b5d-a571-17a72a7da0dc",
   "metadata": {},
   "outputs": [
    {
     "data": {
      "image/png": "[encoded data removed]",
      "text/plain": [
       "<Figure size 1000x500 with 1 Axes>"
      ]
     },
     "metadata": {},
     "output_type": "display_data"
    }
   ],
   "source": [
    "x_data = []\n",
    "y_data = []\n",
    "\n",
    "for i in range(60, 1149):\n",
    "    x_data.append(x[i-60:i,0])\n",
    "    y_data.append(x[i,0])\n",
    "\n",
    "plt.figure(figsize=(10, 5))\n",
    "plt.plot(range(len(x_data[0])), x_data[0], color = \"green\", label = \"Sequence\")\n",
    "plt.scatter([len(x_data[0])], [y_data[0]], color='blue', label='Target')\n",
    "plt.xlabel('Time Steps')\n",
    "plt.ylabel('Value')\n",
    "plt.title('Sequence and Target')\n",
    "plt.legend()\n",
    "plt.show()"
   ]
  },
  {
   "cell_type": "code",
   "execution_count": 164,
   "id": "7d39ceb0-05d9-4cfa-86bb-dfc897969ae1",
   "metadata": {},
   "outputs": [],
   "source": [
    "x_data = np.array(x_data)\n",
    "y_data = np.array(y_data)"
   ]
  },
  {
   "cell_type": "markdown",
   "id": "c794ebbf-1705-4807-b37a-dd92bc75aae9",
   "metadata": {},
   "source": [
    "## Adding Mini-Batch Size Axis"
   ]
  },
  {
   "cell_type": "code",
   "execution_count": 165,
   "id": "91e54e86-0ef8-42c1-83bb-0619a590b32c",
   "metadata": {},
   "outputs": [],
   "source": [
    "x_data = np.reshape(x_data, (x_data.shape[0], x_data.shape[1],1))"
   ]
  },
  {
   "cell_type": "code",
   "execution_count": 166,
   "id": "6145c627-c397-4b64-9e7d-1e458b4a904b",
   "metadata": {},
   "outputs": [
    {
     "data": {
      "text/plain": [
       "(1089, 60, 1)"
      ]
     },
     "execution_count": 166,
     "metadata": {},
     "output_type": "execute_result"
    }
   ],
   "source": [
    "x_data.shape"
   ]
  },
  {
   "cell_type": "code",
   "execution_count": 167,
   "id": "1cc45527-e862-4262-9fd0-24a9b01252a1",
   "metadata": {},
   "outputs": [
    {
     "name": "stderr",
     "output_type": "stream",
     "text": [
      "/opt/anaconda3/lib/python3.11/site-packages/keras/src/layers/rnn/rnn.py:204: UserWarning: Do not pass an `input_shape`/`input_dim` argument to a layer. When using Sequential models, prefer using an `Input(shape)` object as the first layer in the model instead.\n",
      "  super().__init__(**kwargs)\n"
     ]
    }
   ],
   "source": [
    "model = Sequential()\n",
    "model.add(LSTM(units = 128, return_sequences = True, input_shape = (x_data.shape[1],1)))\n",
    "model.add(Dropout(0.2))\n",
    "model.add(LSTM(units = 128, return_sequences = True))\n",
    "model.add(Dropout(0.2))\n",
    "model.add(LSTM(units = 128, return_sequences = True))\n",
    "model.add(Dropout(0.2))\n",
    "model.add(LSTM(units = 128, return_sequences = True))\n",
    "model.add(Dropout(0.2))\n",
    "model.add(LSTM(units = 128, return_sequences = False))\n",
    "model.add(Dropout(0.2))\n",
    "model.add(Dense(units = 1, activation = \"linear\"))\n",
    "model.add(Dropout(0.2))\n",
    "\n",
    "model.compile(loss = \"mean_squared_error\", optimizer = \"adam\")\n"
   ]
  },
  {
   "cell_type": "code",
   "execution_count": 168,
   "id": "c23f2cd5-628c-4d36-a9e2-206759d6bd56",
   "metadata": {},
   "outputs": [
    {
     "name": "stdout",
     "output_type": "stream",
     "text": [
      "Epoch 1/20\n",
      "35/35 - 7s - 206ms/step - loss: 0.0988\n",
      "Epoch 2/20\n",
      "35/35 - 5s - 152ms/step - loss: 0.0631\n",
      "Epoch 3/20\n",
      "35/35 - 5s - 154ms/step - loss: 0.0640\n",
      "Epoch 4/20\n",
      "35/35 - 6s - 159ms/step - loss: 0.0592\n",
      "Epoch 5/20\n",
      "35/35 - 6s - 159ms/step - loss: 0.0566\n",
      "Epoch 6/20\n",
      "35/35 - 6s - 160ms/step - loss: 0.0574\n",
      "Epoch 7/20\n",
      "35/35 - 6s - 161ms/step - loss: 0.0569\n",
      "Epoch 8/20\n",
      "35/35 - 6s - 159ms/step - loss: 0.0533\n",
      "Epoch 9/20\n",
      "35/35 - 6s - 159ms/step - loss: 0.0616\n",
      "Epoch 10/20\n",
      "35/35 - 6s - 159ms/step - loss: 0.0588\n",
      "Epoch 11/20\n",
      "35/35 - 6s - 159ms/step - loss: 0.0622\n",
      "Epoch 12/20\n",
      "35/35 - 6s - 160ms/step - loss: 0.0590\n",
      "Epoch 13/20\n",
      "35/35 - 6s - 159ms/step - loss: 0.0619\n",
      "Epoch 14/20\n",
      "35/35 - 6s - 160ms/step - loss: 0.0548\n",
      "Epoch 15/20\n",
      "35/35 - 6s - 158ms/step - loss: 0.0594\n",
      "Epoch 16/20\n",
      "35/35 - 6s - 160ms/step - loss: 0.0511\n",
      "Epoch 17/20\n",
      "35/35 - 6s - 157ms/step - loss: 0.0614\n",
      "Epoch 18/20\n",
      "35/35 - 6s - 161ms/step - loss: 0.0578\n",
      "Epoch 19/20\n",
      "35/35 - 6s - 158ms/step - loss: 0.0579\n",
      "Epoch 20/20\n",
      "35/35 - 6s - 161ms/step - loss: 0.0543\n"
     ]
    }
   ],
   "source": [
    "hist = model.fit(x_data, y_data, epochs = 20, batch_size = 32, verbose =2 )"
   ]
  },
  {
   "cell_type": "code",
   "execution_count": 169,
   "id": "6193160f-45fd-46fc-8207-6f74b573e559",
   "metadata": {},
   "outputs": [
    {
     "data": {
      "image/png": "[encoded data removed]",
      "text/plain": [
       "<Figure size 640x480 with 1 Axes>"
      ]
     },
     "metadata": {},
     "output_type": "display_data"
    }
   ],
   "source": [
    "plt.plot(hist.history[\"loss\"])\n",
    "plt.title(\"Training Model Loss\")\n",
    "plt.ylabel(\"Loss\")\n",
    "plt.xlabel(\"Epoch\")\n",
    "plt.legend([\"train\"], loc = \"upper right\")\n",
    "plt.show()"
   ]
  },
  {
   "cell_type": "code",
   "execution_count": 171,
   "id": "e9ed3b5e-ec7a-4b0e-bd7b-d6811ca11aee",
   "metadata": {},
   "outputs": [
    {
     "data": {
      "text/plain": [
       "(252, 1)"
      ]
     },
     "execution_count": 171,
     "metadata": {},
     "output_type": "execute_result"
    }
   ],
   "source": [
    "testdata = pd.read_csv(\"archive/Google_test_data.csv\")\n",
    "testdata[\"Close\"] = pd.to_numeric(testdata.Close, errors = \"coerce\")\n",
    "testdata.dropna(inplace = True)\n",
    "testdata= testdata.iloc[:,4:5]\n",
    "y_test = testdata.iloc[60:,0:].values\n",
    "\n",
    "inputClosing = testdata.iloc[:,0:].values\n",
    "inputClosingScaled = sc.transform(inputClosing)\n",
    "inputClosing.shape"
   ]
  },
  {
   "cell_type": "code",
   "execution_count": 174,
   "id": "5d41ffde-eb9c-4151-ba64-9db81d3f3c3a",
   "metadata": {},
   "outputs": [
    {
     "data": {
      "text/plain": [
       "(192, 60, 1)"
      ]
     },
     "execution_count": 174,
     "metadata": {},
     "output_type": "execute_result"
    }
   ],
   "source": [
    "X_test = []\n",
    "timestep = 60\n",
    "for i in range(timestep, len(testdata)):\n",
    "    X_test.append(inputClosingScaled[i-timestep:i,0])\n",
    "X_test = np.array(X_test)\n",
    "X_test = np.reshape(X_test, (X_test.shape[0], X_test.shape[1],1))\n",
    "X_test.shape"
   ]
  },
  {
   "cell_type": "code",
   "execution_count": 175,
   "id": "83c73e89-2b7f-4982-88eb-842847844b23",
   "metadata": {},
   "outputs": [
    {
     "name": "stdout",
     "output_type": "stream",
     "text": [
      "\u001b[1m6/6\u001b[0m \u001b[32m━━━━━━━━━━━━━━━━━━━━\u001b[0m\u001b[37m\u001b[0m \u001b[1m0s\u001b[0m 42ms/step\n"
     ]
    }
   ],
   "source": [
    "y_pred = model.predict(X_test)"
   ]
  },
  {
   "cell_type": "code",
   "execution_count": 176,
   "id": "2e40a728-2442-4004-afb5-413d3962a4ac",
   "metadata": {},
   "outputs": [],
   "source": [
    "predicted_price = sc.inverse_transform(y_pred)"
   ]
  },
  {
   "cell_type": "code",
   "execution_count": 177,
   "id": "04915ea5-61e0-41bd-bdc5-7ca8338a3c24",
   "metadata": {},
   "outputs": [
    {
     "data": {
      "text/plain": [
       "array([[ 911.9077 ],\n",
       "       [ 911.02203],\n",
       "       [ 911.8355 ],\n",
       "       [ 914.5555 ],\n",
       "       [ 918.5296 ],\n",
       "       [ 922.1903 ],\n",
       "       [ 924.11646],\n",
       "       [ 923.81665],\n",
       "       [ 922.04065],\n",
       "       [ 919.84644],\n",
       "       [ 917.2186 ],\n",
       "       [ 913.97424],\n",
       "       [ 910.38086],\n",
       "       [ 906.6576 ],\n",
       "       [ 903.5508 ],\n",
       "       [ 901.6705 ],\n",
       "       [ 902.11206],\n",
       "       [ 905.5256 ],\n",
       "       [ 911.82227],\n",
       "       [ 920.39655],\n",
       "       [ 929.0111 ],\n",
       "       [ 935.7732 ],\n",
       "       [ 939.01544],\n",
       "       [ 938.1533 ],\n",
       "       [ 933.96136],\n",
       "       [ 928.1409 ],\n",
       "       [ 922.37067],\n",
       "       [ 917.4099 ],\n",
       "       [ 912.90704],\n",
       "       [ 908.5889 ],\n",
       "       [ 904.34973],\n",
       "       [ 900.0373 ],\n",
       "       [ 895.06213],\n",
       "       [ 889.05194],\n",
       "       [ 883.4572 ],\n",
       "       [ 880.11743],\n",
       "       [ 880.0188 ],\n",
       "       [ 883.053  ],\n",
       "       [ 888.5257 ],\n",
       "       [ 894.78564],\n",
       "       [ 901.28845],\n",
       "       [ 907.90063],\n",
       "       [ 914.6159 ],\n",
       "       [ 921.2036 ],\n",
       "       [ 927.1416 ],\n",
       "       [ 931.6081 ],\n",
       "       [ 933.7455 ],\n",
       "       [ 933.8871 ],\n",
       "       [ 932.9764 ],\n",
       "       [ 932.1155 ],\n",
       "       [ 932.20557],\n",
       "       [ 933.0143 ],\n",
       "       [ 933.9634 ],\n",
       "       [ 934.5055 ],\n",
       "       [ 934.71356],\n",
       "       [ 934.4455 ],\n",
       "       [ 933.3716 ],\n",
       "       [ 931.94305],\n",
       "       [ 931.3933 ],\n",
       "       [ 932.5534 ],\n",
       "       [ 935.989  ],\n",
       "       [ 941.8555 ],\n",
       "       [ 948.9718 ],\n",
       "       [ 955.39105],\n",
       "       [ 959.46606],\n",
       "       [ 960.4628 ],\n",
       "       [ 959.1479 ],\n",
       "       [ 956.7802 ],\n",
       "       [ 954.492  ],\n",
       "       [ 952.7948 ],\n",
       "       [ 951.8633 ],\n",
       "       [ 951.52893],\n",
       "       [ 951.1498 ],\n",
       "       [ 950.4755 ],\n",
       "       [ 949.54083],\n",
       "       [ 948.6485 ],\n",
       "       [ 948.1154 ],\n",
       "       [ 948.193  ],\n",
       "       [ 949.3894 ],\n",
       "       [ 952.08636],\n",
       "       [ 956.50507],\n",
       "       [ 962.2786 ],\n",
       "       [ 968.30145],\n",
       "       [ 973.39197],\n",
       "       [ 977.4885 ],\n",
       "       [ 981.3031 ],\n",
       "       [ 985.4047 ],\n",
       "       [ 989.7007 ],\n",
       "       [ 993.68677],\n",
       "       [ 996.806  ],\n",
       "       [ 999.01697],\n",
       "       [1001.04004],\n",
       "       [1003.64935],\n",
       "       [1006.5418 ],\n",
       "       [1008.7284 ],\n",
       "       [1009.20575],\n",
       "       [1007.3039 ],\n",
       "       [1002.98114],\n",
       "       [ 996.9614 ],\n",
       "       [ 990.80695],\n",
       "       [ 986.0853 ],\n",
       "       [ 983.8353 ],\n",
       "       [ 984.473  ],\n",
       "       [ 987.49146],\n",
       "       [ 991.81335],\n",
       "       [ 996.16223],\n",
       "       [ 999.6817 ],\n",
       "       [1002.04626],\n",
       "       [1003.5912 ],\n",
       "       [1004.84247],\n",
       "       [1006.28595],\n",
       "       [1008.31354],\n",
       "       [1010.9703 ],\n",
       "       [1014.26184],\n",
       "       [1018.319  ],\n",
       "       [1022.8087 ],\n",
       "       [1027.3107 ],\n",
       "       [1031.561  ],\n",
       "       [1035.6567 ],\n",
       "       [1037.3784 ],\n",
       "       [1034.4327 ],\n",
       "       [1026.0126 ],\n",
       "       [1013.6236 ],\n",
       "       [ 999.90924],\n",
       "       [ 987.10114],\n",
       "       [ 976.5569 ],\n",
       "       [ 968.8267 ],\n",
       "       [ 963.9785 ],\n",
       "       [ 961.03827],\n",
       "       [ 958.71783],\n",
       "       [ 957.1631 ],\n",
       "       [ 957.29755],\n",
       "       [ 959.3916 ],\n",
       "       [ 962.56384],\n",
       "       [ 965.90875],\n",
       "       [ 968.8278 ],\n",
       "       [ 970.81665],\n",
       "       [ 971.4968 ],\n",
       "       [ 970.8411 ],\n",
       "       [ 968.7553 ],\n",
       "       [ 965.4325 ],\n",
       "       [ 961.0413 ],\n",
       "       [ 954.4756 ],\n",
       "       [ 945.45605],\n",
       "       [ 934.4895 ],\n",
       "       [ 922.7993 ],\n",
       "       [ 912.3106 ],\n",
       "       [ 904.9696 ],\n",
       "       [ 901.8408 ],\n",
       "       [ 902.8597 ],\n",
       "       [ 907.3441 ],\n",
       "       [ 914.0881 ],\n",
       "       [ 921.86554],\n",
       "       [ 929.81287],\n",
       "       [ 937.24835],\n",
       "       [ 943.8277 ],\n",
       "       [ 949.5662 ],\n",
       "       [ 954.36786],\n",
       "       [ 957.4443 ],\n",
       "       [ 958.0091 ],\n",
       "       [ 955.7795 ],\n",
       "       [ 951.25684],\n",
       "       [ 945.7838 ],\n",
       "       [ 941.0286 ],\n",
       "       [ 938.3957 ],\n",
       "       [ 938.6878 ],\n",
       "       [ 941.5024 ],\n",
       "       [ 945.95184],\n",
       "       [ 951.3405 ],\n",
       "       [ 957.1197 ],\n",
       "       [ 962.77704],\n",
       "       [ 967.94305],\n",
       "       [ 972.38837],\n",
       "       [ 975.78723],\n",
       "       [ 977.9018 ],\n",
       "       [ 978.33264],\n",
       "       [ 977.1268 ],\n",
       "       [ 974.8714 ],\n",
       "       [ 972.1081 ],\n",
       "       [ 969.15405],\n",
       "       [ 968.81067],\n",
       "       [ 973.09595],\n",
       "       [ 981.87445],\n",
       "       [ 993.23596],\n",
       "       [1004.55493],\n",
       "       [1013.33185],\n",
       "       [1017.212  ],\n",
       "       [1015.69604],\n",
       "       [1009.87994],\n",
       "       [1002.31964],\n",
       "       [ 995.0854 ],\n",
       "       [ 989.13617]], dtype=float32)"
      ]
     },
     "execution_count": 177,
     "metadata": {},
     "output_type": "execute_result"
    }
   ],
   "source": [
    "predicted_price"
   ]
  },
  {
   "cell_type": "code",
   "execution_count": 179,
   "id": "3ef6bb06-db25-4163-bcd9-68e97909a3aa",
   "metadata": {},
   "outputs": [
    {
     "data": {
      "image/png": "[encoded data removed]",
      "text/plain": [
       "<Figure size 640x480 with 1 Axes>"
      ]
     },
     "metadata": {},
     "output_type": "display_data"
    }
   ],
   "source": [
    "plt.plot(y_test, color = 'red',label = \"Actual Stock Price\")\n",
    "plt.plot(predicted_price, color = 'green', label = \"Predicted Stock Price\")\n",
    "plt.title(\"Google Stock Price Pattern Prediction\")\n",
    "plt.xlabel(\"Time\")\n",
    "plt.ylabel(\"Stock Price\")\n",
    "plt.legend()\n",
    "plt.show()"
   ]
  },
  {
   "cell_type": "code",
   "execution_count": null,
   "id": "209d7381-9b4e-418a-94db-aa88a33fe922",
   "metadata": {},
   "outputs": [],
   "source": []
  }
 ],
 "metadata": {
  "kernelspec": {
   "display_name": "Python 3 (ipykernel)",
   "language": "python",
   "name": "python3"
  },
  "language_info": {
   "codemirror_mode": {
    "name": "ipython",
    "version": 3
   },
   "file_extension": ".py",
   "mimetype": "text/x-python",
   "name": "python",
   "nbconvert_exporter": "python",
   "pygments_lexer": "ipython3",
   "version": "3.11.7"
  }
 },
 "nbformat": 4,
 "nbformat_minor": 5
}
